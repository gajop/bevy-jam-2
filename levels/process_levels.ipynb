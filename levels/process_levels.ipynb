{
 "cells": [
  {
   "cell_type": "code",
   "execution_count": 2,
   "metadata": {},
   "outputs": [],
   "source": [
    "import json\n",
    "import os"
   ]
  },
  {
   "cell_type": "code",
   "execution_count": 38,
   "metadata": {},
   "outputs": [
    {
     "name": "stdout",
     "output_type": "stream",
     "text": [
      "bevy-jam-2-levels/simplified/Level_0\n",
      "bevy-jam-2-levels/simplified/Level_1\n",
      "bevy-jam-2-levels/simplified/Level_2\n"
     ]
    }
   ],
   "source": [
    "LEVEL_DIRS = \"bevy-jam-2-levels/simplified/\"\n",
    "\n",
    "levels_json = []\n",
    "for level in sorted(os.listdir(LEVEL_DIRS)):\n",
    "\tlevel_dir = os.path.join(LEVEL_DIRS, level)\n",
    "\tprint(level_dir)\n",
    "\tdata_json = os.path.join(level_dir, \"data.json\")\n",
    "\tdata = json.load(open(data_json))\n",
    "\n",
    "\tentities = data[\"entities\"]\n",
    "\tplayer = entities[\"Player\"][0]\n",
    "\t\n",
    "\tgoal = entities[\"Goal\"][0]\n",
    "\n",
    "\ttraps = []\n",
    "\tfor color in [\"RedTrap\", \"GreenTrap\", \"BlueTrap\"]:\n",
    "\t\tif color not in entities:\n",
    "\t\t\tcontinue\n",
    "\t\tfor trap in entities[color]:\n",
    "\t\t\ttraps.append({\n",
    "\t\t\t\t\"x\": trap[\"x\"] // 16,\n",
    "\t\t\t\t\"y\": trap[\"y\"] // 16,\n",
    "\t\t\t\t\"color\": color.split(\"Trap\")[0]\n",
    "\t\t\t})\n",
    "\n",
    "\tlevel_json = {\n",
    "\t\t\"player\": {\n",
    "\t\t\t\"x\": player[\"x\"] // 16,\n",
    "\t\t\t\"y\": player[\"y\"] // 16,\n",
    "\t\t},\n",
    "\t\t\"goal\": {\n",
    "\t\t\t\"x\": goal[\"x\"] // 16,\n",
    "\t\t\t\"y\": goal[\"y\"] // 16,\n",
    "\t\t},\n",
    "\t\t\"traps\": traps,\n",
    "\t}\n",
    "\tlevels_json.append(level_json)\n",
    "\t\n",
    "json.dump({\"levels\": levels_json}, open(\"levels.level.json\", \"w\"))"
   ]
  },
  {
   "cell_type": "code",
   "execution_count": 20,
   "metadata": {},
   "outputs": [
    {
     "data": {
      "text/plain": [
       "96"
      ]
     },
     "execution_count": 20,
     "metadata": {},
     "output_type": "execute_result"
    }
   ],
   "source": [
    "player[0]['x']"
   ]
  },
  {
   "cell_type": "code",
   "execution_count": null,
   "metadata": {},
   "outputs": [],
   "source": []
  }
 ],
 "metadata": {
  "kernelspec": {
   "display_name": "Python 3.10.4 64-bit",
   "language": "python",
   "name": "python3"
  },
  "language_info": {
   "codemirror_mode": {
    "name": "ipython",
    "version": 3
   },
   "file_extension": ".py",
   "mimetype": "text/x-python",
   "name": "python",
   "nbconvert_exporter": "python",
   "pygments_lexer": "ipython3",
   "version": "3.10.4"
  },
  "orig_nbformat": 4,
  "vscode": {
   "interpreter": {
    "hash": "31f2aee4e71d21fbe5cf8b01ff0e069b9275f58929596ceb00d14d90e3e16cd6"
   }
  }
 },
 "nbformat": 4,
 "nbformat_minor": 2
}
