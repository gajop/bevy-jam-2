{
 "cells": [
  {
   "cell_type": "code",
   "execution_count": 2,
   "metadata": {},
   "outputs": [],
   "source": [
    "import json\n",
    "import os"
   ]
  },
  {
   "cell_type": "code",
   "execution_count": 14,
   "metadata": {},
   "outputs": [
    {
     "name": "stdout",
     "output_type": "stream",
     "text": [
      "bevy-jam-2-levels/simplified/Level_0\n",
      "bevy-jam-2-levels/simplified/Level_1\n",
      "bevy-jam-2-levels/simplified/Level_2\n",
      "bevy-jam-2-levels/simplified/Level_3\n",
      "bevy-jam-2-levels/simplified/Level_4\n",
      "bevy-jam-2-levels/simplified/Level_5\n",
      "bevy-jam-2-levels/simplified/Level_6\n",
      "bevy-jam-2-levels/simplified/Level_7\n",
      "bevy-jam-2-levels/simplified/Level_8\n",
      "bevy-jam-2-levels/simplified/Level_9\n"
     ]
    }
   ],
   "source": [
    "LEVEL_DIRS = \"bevy-jam-2-levels/simplified/\"\n",
    "\n",
    "levels_json = []\n",
    "for level in sorted(os.listdir(LEVEL_DIRS)):\n",
    "\tlevel_dir = os.path.join(LEVEL_DIRS, level)\n",
    "\tprint(level_dir)\n",
    "\tdata_json = os.path.join(level_dir, \"data.json\")\n",
    "\tdata = json.load(open(data_json))\n",
    "\n",
    "\tentities = data[\"entities\"]\n",
    "\tplayer = None\n",
    "\n",
    "\tlevel_json = {\n",
    "\t\t\"traps\": [],\n",
    "\t\t\"player\": None,\n",
    "\t\t\"goals\": [],\n",
    "\t}\n",
    "\tfor color in [\"Red\", \"Green\", \"Blue\", \"White\", \"Cyan\", \"Pink\", \"Yellow\"]:\n",
    "\t\tfor entity_type in [\"Trap\", \"Player\", \"Goal\"]:\n",
    "\t\t\tents = []\n",
    "\t\t\tcolor_entity = color + entity_type\n",
    "\t\t\tif color_entity not in entities:\n",
    "\t\t\t\tcontinue\n",
    "\t\t\tfor entity in entities[color_entity]:\n",
    "\t\t\t\tents.append({\n",
    "\t\t\t\t\t\"x\": entity[\"x\"] // 16,\n",
    "\t\t\t\t\t\"y\": entity[\"y\"] // 16,\n",
    "\t\t\t\t\t\"color\": color.split(entity_type)[0]\n",
    "\t\t\t\t})\n",
    "\t\t\tif entity_type in [\"Trap\", \"Goal\"]:\n",
    "\t\t\t\tlevel_json[entity_type.lower() + \"s\"] += ents\n",
    "\t\t\telse:\n",
    "\t\t\t\tlevel_json[\"player\"] = ents[0]\n",
    "\t# print()\n",
    "\t# print(entities)\n",
    "\t# print()\n",
    "\t\n",
    "\tlevels_json.append(level_json)\n",
    "\t\n",
    "json.dump({\"levels\": levels_json}, open(\"levels.level.json\", \"w\"))"
   ]
  },
  {
   "cell_type": "code",
   "execution_count": 20,
   "metadata": {},
   "outputs": [
    {
     "data": {
      "text/plain": [
       "96"
      ]
     },
     "execution_count": 20,
     "metadata": {},
     "output_type": "execute_result"
    }
   ],
   "source": [
    "player[0]['x']"
   ]
  },
  {
   "cell_type": "code",
   "execution_count": null,
   "metadata": {},
   "outputs": [],
   "source": []
  }
 ],
 "metadata": {
  "kernelspec": {
   "display_name": "Python 3.10.4 64-bit",
   "language": "python",
   "name": "python3"
  },
  "language_info": {
   "codemirror_mode": {
    "name": "ipython",
    "version": 3
   },
   "file_extension": ".py",
   "mimetype": "text/x-python",
   "name": "python",
   "nbconvert_exporter": "python",
   "pygments_lexer": "ipython3",
   "version": "3.10.4"
  },
  "orig_nbformat": 4,
  "vscode": {
   "interpreter": {
    "hash": "31f2aee4e71d21fbe5cf8b01ff0e069b9275f58929596ceb00d14d90e3e16cd6"
   }
  }
 },
 "nbformat": 4,
 "nbformat_minor": 2
}
